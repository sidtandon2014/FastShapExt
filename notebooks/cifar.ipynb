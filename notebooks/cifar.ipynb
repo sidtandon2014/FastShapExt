{
 "cells": [
  {
   "cell_type": "markdown",
   "id": "straight-behalf",
   "metadata": {},
   "source": [
    "# Load data"
   ]
  },
  {
   "cell_type": "code",
   "execution_count": 9,
   "id": "disturbed-attitude",
   "metadata": {},
   "outputs": [],
   "source": [
    "import torchvision.datasets as dsets\n",
    "import torchvision.transforms as transforms"
   ]
  },
  {
   "cell_type": "code",
   "execution_count": 10,
   "id": "immune-sigma",
   "metadata": {},
   "outputs": [
    {
     "name": "stdout",
     "output_type": "stream",
     "text": [
      "Files already downloaded and verified\n",
      "Files already downloaded and verified\n"
     ]
    }
   ],
   "source": [
    "# Transformations\n",
    "transform_train = transforms.Compose([\n",
    "    transforms.RandomCrop(32, padding=4),\n",
    "    transforms.RandomHorizontalFlip(),\n",
    "    transforms.ToTensor(),\n",
    "    transforms.Normalize((0.4914, 0.4822, 0.4465), (0.2023, 0.1994, 0.2010)),\n",
    "])\n",
    "transform_test = transforms.Compose([\n",
    "    transforms.ToTensor(),\n",
    "    transforms.Normalize((0.4914, 0.4822, 0.4465), (0.2023, 0.1994, 0.2010)),\n",
    "])\n",
    "\n",
    "# Load train set\n",
    "train_set = dsets.CIFAR10('../', train=True, download=True, transform=transform_train)\n",
    "\n",
    "# Load test set (using as validation)\n",
    "val_set = dsets.CIFAR10('../', train=False, download=True, transform=transform_test)"
   ]
  },
  {
   "cell_type": "code",
   "execution_count": 11,
   "id": "561a6efb",
   "metadata": {},
   "outputs": [
    {
     "data": {
      "text/plain": [
       "torch.Size([3, 32, 32])"
      ]
     },
     "execution_count": 11,
     "metadata": {},
     "output_type": "execute_result"
    }
   ],
   "source": [
    "train_set[0][0].shape"
   ]
  },
  {
   "cell_type": "markdown",
   "id": "assigned-george",
   "metadata": {},
   "source": [
    "# Train model"
   ]
  },
  {
   "cell_type": "code",
   "execution_count": 12,
   "id": "subjective-floating",
   "metadata": {},
   "outputs": [],
   "source": [
    "import torch\n",
    "import torch.nn as nn\n",
    "import torch.optim as optim\n",
    "import numpy as np\n",
    "import os.path\n",
    "from torch.utils.data import DataLoader\n",
    "from tqdm.auto import tqdm\n",
    "from copy import deepcopy\n",
    "from resnet import ResNet18"
   ]
  },
  {
   "cell_type": "code",
   "execution_count": 13,
   "id": "compliant-craps",
   "metadata": {},
   "outputs": [],
   "source": [
    "# Select device\n",
    "device = torch.device('cuda')"
   ]
  },
  {
   "cell_type": "code",
   "execution_count": 14,
   "id": "b24e87f7",
   "metadata": {},
   "outputs": [
    {
     "data": {
      "text/plain": [
       "True"
      ]
     },
     "execution_count": 14,
     "metadata": {},
     "output_type": "execute_result"
    }
   ],
   "source": [
    "torch.cuda.is_available()"
   ]
  },
  {
   "cell_type": "code",
   "execution_count": 15,
   "id": "clear-homework",
   "metadata": {},
   "outputs": [
    {
     "name": "stdout",
     "output_type": "stream",
     "text": [
      "Loading saved model\n"
     ]
    }
   ],
   "source": [
    "# Check for model\n",
    "if os.path.isfile('cifar resnet.pt'):\n",
    "    # Load saved model\n",
    "    print('Loading saved model')\n",
    "    model = ResNet18(num_classes=10)\n",
    "    model.load_state_dict(torch.load('cifar resnet.pt'))\n",
    "    model.to(device)\n",
    "\n",
    "else:\n",
    "    # Create model\n",
    "    model = ResNet18(num_classes=10).to(device)\n",
    "\n",
    "    # Training parameters\n",
    "    lr = 1e-3\n",
    "    mbsize = 256  # 16\n",
    "    max_nepochs = 250\n",
    "    loss_fn = nn.CrossEntropyLoss()\n",
    "    lookback = 10\n",
    "    verbose = True\n",
    "\n",
    "    # Validation function\n",
    "    val_loader = DataLoader(val_set, batch_size=mbsize, shuffle=False, num_workers=4)\n",
    "\n",
    "    def validate(model):\n",
    "        n = 0\n",
    "        mean_loss = 0\n",
    "        mean_acc = 0\n",
    "\n",
    "        for x, y in val_loader:\n",
    "            # Move to GPU.\n",
    "            n += len(x)\n",
    "            x = x.to(device)\n",
    "            y = y.to(device)\n",
    "\n",
    "            # Get predictions.\n",
    "            pred = model(x)\n",
    "\n",
    "            # Update loss.\n",
    "            loss = loss_fn(pred, y).item()\n",
    "            mean_loss += len(x) * (loss - mean_loss) / n\n",
    "\n",
    "            # Update accuracy.\n",
    "            acc = (torch.argmax(pred, dim=1) == y).float().mean().item()\n",
    "            mean_acc += len(x) * (acc - mean_acc) / n\n",
    "\n",
    "        return mean_loss, mean_acc\n",
    "\n",
    "    # Data loader\n",
    "    train_loader = DataLoader(train_set, batch_size=mbsize, shuffle=True,\n",
    "                              drop_last=True, num_workers=4)\n",
    "\n",
    "    # Setup\n",
    "    optimizer = optim.Adam(model.parameters(), lr=lr)\n",
    "    scheduler = optim.lr_scheduler.ReduceLROnPlateau(\n",
    "        optimizer, factor=0.5, patience=lookback // 2, min_lr=1e-5,\n",
    "        mode='max', verbose=verbose)\n",
    "    loss_list = []\n",
    "    acc_list = []\n",
    "    min_criterion = np.inf\n",
    "    min_epoch = 0\n",
    "\n",
    "    # Train\n",
    "    for epoch in range(max_nepochs):\n",
    "        for x, y in tqdm(train_loader, desc='Training loop', leave=True):\n",
    "            # Move to device.\n",
    "            x = x.to(device=device)\n",
    "            y = y.to(device=device)\n",
    "\n",
    "            # Take gradient step.\n",
    "            loss = loss_fn(model(x), y)\n",
    "            loss.backward()\n",
    "            optimizer.step()\n",
    "            model.zero_grad()\n",
    "\n",
    "        # Check progress.\n",
    "        with torch.no_grad():\n",
    "            # Calculate validation loss.\n",
    "            model.eval()\n",
    "            val_loss, val_acc = validate(model)\n",
    "            model.train()\n",
    "            if verbose:\n",
    "                print('----- Epoch = {} -----'.format(epoch + 1))\n",
    "                print('Val loss = {:.4f}'.format(val_loss))\n",
    "                print('Val acc = {:.4f}'.format(val_acc))\n",
    "            loss_list.append(val_loss)\n",
    "            acc_list.append(val_acc)\n",
    "            scheduler.step(val_acc)\n",
    "\n",
    "            # Check convergence criterion.\n",
    "            val_criterion = - val_acc\n",
    "            if val_criterion < min_criterion:\n",
    "                min_criterion = val_criterion\n",
    "                min_epoch = epoch\n",
    "                best_model = deepcopy(model)\n",
    "                print('')\n",
    "                print('New best epoch, acc = {:.4f}'.format(val_acc))\n",
    "                print('')\n",
    "            elif (epoch - min_epoch) == lookback:\n",
    "                if verbose:\n",
    "                    print('Stopping early')\n",
    "                break\n",
    "\n",
    "    # Keep best model\n",
    "    model = best_model\n",
    "    \n",
    "    # Save model\n",
    "    model.cpu()\n",
    "    torch.save(model.state_dict(), 'cifar resnet.pt')\n",
    "    model.to(device)"
   ]
  },
  {
   "cell_type": "markdown",
   "id": "signed-education",
   "metadata": {},
   "source": [
    "# Train surrogate"
   ]
  },
  {
   "cell_type": "code",
   "execution_count": 16,
   "id": "d985b3af",
   "metadata": {},
   "outputs": [],
   "source": [
    "sys.path.insert(1, '/home/sidtandon/Sid/GitRepo/FastShapExt')"
   ]
  },
  {
   "cell_type": "code",
   "execution_count": 17,
   "id": "alternate-prince",
   "metadata": {},
   "outputs": [],
   "source": [
    "from fastshap import ImageSurrogate\n",
    "from fastshap.utils import MaskLayer2d, KLDivLoss, DatasetInputOnly"
   ]
  },
  {
   "cell_type": "code",
   "execution_count": 18,
   "id": "uniform-property",
   "metadata": {},
   "outputs": [
    {
     "name": "stderr",
     "output_type": "stream",
     "text": [
      "Training epoch: 100%|██████████| 196/196 [00:54<00:00,  3.63it/s]\n"
     ]
    },
    {
     "name": "stdout",
     "output_type": "stream",
     "text": [
      "----- Epoch = 1 -----\n",
      "Val loss = 1.5722\n",
      "\n",
      "New best epoch, loss = 1.5722\n",
      "\n"
     ]
    },
    {
     "name": "stderr",
     "output_type": "stream",
     "text": [
      "Training epoch: 100%|██████████| 196/196 [00:55<00:00,  3.54it/s]\n"
     ]
    },
    {
     "name": "stdout",
     "output_type": "stream",
     "text": [
      "----- Epoch = 2 -----\n",
      "Val loss = 1.4661\n",
      "\n",
      "New best epoch, loss = 1.4661\n",
      "\n"
     ]
    },
    {
     "name": "stderr",
     "output_type": "stream",
     "text": [
      "Training epoch: 100%|██████████| 196/196 [00:56<00:00,  3.47it/s]\n"
     ]
    },
    {
     "name": "stdout",
     "output_type": "stream",
     "text": [
      "----- Epoch = 3 -----\n",
      "Val loss = 1.3494\n",
      "\n",
      "New best epoch, loss = 1.3494\n",
      "\n"
     ]
    },
    {
     "name": "stderr",
     "output_type": "stream",
     "text": [
      "Training epoch: 100%|██████████| 196/196 [00:56<00:00,  3.47it/s]\n"
     ]
    },
    {
     "name": "stdout",
     "output_type": "stream",
     "text": [
      "----- Epoch = 4 -----\n",
      "Val loss = 1.1871\n",
      "\n",
      "New best epoch, loss = 1.1871\n",
      "\n"
     ]
    },
    {
     "name": "stderr",
     "output_type": "stream",
     "text": [
      "Training epoch: 100%|██████████| 196/196 [00:56<00:00,  3.47it/s]\n"
     ]
    },
    {
     "name": "stdout",
     "output_type": "stream",
     "text": [
      "----- Epoch = 5 -----\n",
      "Val loss = 1.1152\n",
      "\n",
      "New best epoch, loss = 1.1152\n",
      "\n"
     ]
    },
    {
     "name": "stderr",
     "output_type": "stream",
     "text": [
      "Training epoch: 100%|██████████| 196/196 [00:56<00:00,  3.48it/s]\n"
     ]
    },
    {
     "name": "stdout",
     "output_type": "stream",
     "text": [
      "----- Epoch = 6 -----\n",
      "Val loss = 0.9925\n",
      "\n",
      "New best epoch, loss = 0.9925\n",
      "\n"
     ]
    },
    {
     "name": "stderr",
     "output_type": "stream",
     "text": [
      "Training epoch: 100%|██████████| 196/196 [00:56<00:00,  3.47it/s]\n"
     ]
    },
    {
     "name": "stdout",
     "output_type": "stream",
     "text": [
      "----- Epoch = 7 -----\n",
      "Val loss = 0.9666\n",
      "\n",
      "New best epoch, loss = 0.9666\n",
      "\n"
     ]
    },
    {
     "name": "stderr",
     "output_type": "stream",
     "text": [
      "Training epoch: 100%|██████████| 196/196 [00:56<00:00,  3.47it/s]\n"
     ]
    },
    {
     "name": "stdout",
     "output_type": "stream",
     "text": [
      "----- Epoch = 8 -----\n",
      "Val loss = 0.9635\n",
      "\n",
      "New best epoch, loss = 0.9635\n",
      "\n"
     ]
    },
    {
     "name": "stderr",
     "output_type": "stream",
     "text": [
      "Training epoch: 100%|██████████| 196/196 [00:56<00:00,  3.48it/s]\n"
     ]
    },
    {
     "name": "stdout",
     "output_type": "stream",
     "text": [
      "----- Epoch = 9 -----\n",
      "Val loss = 0.8979\n",
      "\n",
      "New best epoch, loss = 0.8979\n",
      "\n"
     ]
    },
    {
     "name": "stderr",
     "output_type": "stream",
     "text": [
      "Training epoch: 100%|██████████| 196/196 [00:56<00:00,  3.48it/s]\n"
     ]
    },
    {
     "name": "stdout",
     "output_type": "stream",
     "text": [
      "----- Epoch = 10 -----\n",
      "Val loss = 0.7948\n",
      "\n",
      "New best epoch, loss = 0.7948\n",
      "\n"
     ]
    },
    {
     "name": "stderr",
     "output_type": "stream",
     "text": [
      "Training epoch: 100%|██████████| 196/196 [00:56<00:00,  3.48it/s]\n"
     ]
    },
    {
     "name": "stdout",
     "output_type": "stream",
     "text": [
      "----- Epoch = 11 -----\n",
      "Val loss = 0.7817\n",
      "\n",
      "New best epoch, loss = 0.7817\n",
      "\n"
     ]
    },
    {
     "name": "stderr",
     "output_type": "stream",
     "text": [
      "Training epoch: 100%|██████████| 196/196 [00:56<00:00,  3.48it/s]\n"
     ]
    },
    {
     "name": "stdout",
     "output_type": "stream",
     "text": [
      "----- Epoch = 12 -----\n",
      "Val loss = 0.7317\n",
      "\n",
      "New best epoch, loss = 0.7317\n",
      "\n"
     ]
    },
    {
     "name": "stderr",
     "output_type": "stream",
     "text": [
      "Training epoch: 100%|██████████| 196/196 [00:56<00:00,  3.48it/s]\n"
     ]
    },
    {
     "name": "stdout",
     "output_type": "stream",
     "text": [
      "----- Epoch = 13 -----\n",
      "Val loss = 0.7729\n",
      "\n"
     ]
    },
    {
     "name": "stderr",
     "output_type": "stream",
     "text": [
      "Training epoch: 100%|██████████| 196/196 [00:56<00:00,  3.49it/s]\n"
     ]
    },
    {
     "name": "stdout",
     "output_type": "stream",
     "text": [
      "----- Epoch = 14 -----\n",
      "Val loss = 0.7361\n",
      "\n"
     ]
    },
    {
     "name": "stderr",
     "output_type": "stream",
     "text": [
      "Training epoch: 100%|██████████| 196/196 [00:56<00:00,  3.48it/s]\n"
     ]
    },
    {
     "name": "stdout",
     "output_type": "stream",
     "text": [
      "----- Epoch = 15 -----\n",
      "Val loss = 0.7371\n",
      "\n"
     ]
    },
    {
     "name": "stderr",
     "output_type": "stream",
     "text": [
      "Training epoch: 100%|██████████| 196/196 [00:56<00:00,  3.47it/s]\n"
     ]
    },
    {
     "name": "stdout",
     "output_type": "stream",
     "text": [
      "----- Epoch = 16 -----\n",
      "Val loss = 0.7054\n",
      "\n",
      "New best epoch, loss = 0.7054\n",
      "\n"
     ]
    },
    {
     "name": "stderr",
     "output_type": "stream",
     "text": [
      "Training epoch: 100%|██████████| 196/196 [00:56<00:00,  3.47it/s]\n"
     ]
    },
    {
     "name": "stdout",
     "output_type": "stream",
     "text": [
      "----- Epoch = 17 -----\n",
      "Val loss = 0.6616\n",
      "\n",
      "New best epoch, loss = 0.6616\n",
      "\n"
     ]
    },
    {
     "name": "stderr",
     "output_type": "stream",
     "text": [
      "Training epoch: 100%|██████████| 196/196 [00:56<00:00,  3.46it/s]\n"
     ]
    },
    {
     "name": "stdout",
     "output_type": "stream",
     "text": [
      "----- Epoch = 18 -----\n",
      "Val loss = 0.7548\n",
      "\n"
     ]
    },
    {
     "name": "stderr",
     "output_type": "stream",
     "text": [
      "Training epoch: 100%|██████████| 196/196 [00:56<00:00,  3.47it/s]\n"
     ]
    },
    {
     "name": "stdout",
     "output_type": "stream",
     "text": [
      "----- Epoch = 19 -----\n",
      "Val loss = 0.6793\n",
      "\n"
     ]
    },
    {
     "name": "stderr",
     "output_type": "stream",
     "text": [
      "Training epoch: 100%|██████████| 196/196 [00:56<00:00,  3.48it/s]\n"
     ]
    },
    {
     "name": "stdout",
     "output_type": "stream",
     "text": [
      "----- Epoch = 20 -----\n",
      "Val loss = 0.6487\n",
      "\n",
      "New best epoch, loss = 0.6487\n",
      "\n"
     ]
    },
    {
     "name": "stderr",
     "output_type": "stream",
     "text": [
      "Training epoch: 100%|██████████| 196/196 [00:56<00:00,  3.47it/s]\n"
     ]
    },
    {
     "name": "stdout",
     "output_type": "stream",
     "text": [
      "----- Epoch = 21 -----\n",
      "Val loss = 0.6852\n",
      "\n"
     ]
    },
    {
     "name": "stderr",
     "output_type": "stream",
     "text": [
      "Training epoch: 100%|██████████| 196/196 [00:56<00:00,  3.47it/s]\n"
     ]
    },
    {
     "name": "stdout",
     "output_type": "stream",
     "text": [
      "----- Epoch = 22 -----\n",
      "Val loss = 0.6162\n",
      "\n",
      "New best epoch, loss = 0.6162\n",
      "\n"
     ]
    },
    {
     "name": "stderr",
     "output_type": "stream",
     "text": [
      "Training epoch: 100%|██████████| 196/196 [00:56<00:00,  3.47it/s]\n"
     ]
    },
    {
     "name": "stdout",
     "output_type": "stream",
     "text": [
      "----- Epoch = 23 -----\n",
      "Val loss = 0.6695\n",
      "\n"
     ]
    },
    {
     "name": "stderr",
     "output_type": "stream",
     "text": [
      "Training epoch: 100%|██████████| 196/196 [00:56<00:00,  3.47it/s]\n"
     ]
    },
    {
     "name": "stdout",
     "output_type": "stream",
     "text": [
      "----- Epoch = 24 -----\n",
      "Val loss = 0.6148\n",
      "\n",
      "New best epoch, loss = 0.6148\n",
      "\n"
     ]
    },
    {
     "name": "stderr",
     "output_type": "stream",
     "text": [
      "Training epoch: 100%|██████████| 196/196 [00:56<00:00,  3.46it/s]\n"
     ]
    },
    {
     "name": "stdout",
     "output_type": "stream",
     "text": [
      "----- Epoch = 25 -----\n",
      "Val loss = 0.6665\n",
      "\n"
     ]
    },
    {
     "name": "stderr",
     "output_type": "stream",
     "text": [
      "Training epoch: 100%|██████████| 196/196 [00:56<00:00,  3.48it/s]\n"
     ]
    },
    {
     "name": "stdout",
     "output_type": "stream",
     "text": [
      "----- Epoch = 26 -----\n",
      "Val loss = 0.6393\n",
      "\n"
     ]
    },
    {
     "name": "stderr",
     "output_type": "stream",
     "text": [
      "Training epoch: 100%|██████████| 196/196 [00:56<00:00,  3.47it/s]\n"
     ]
    },
    {
     "name": "stdout",
     "output_type": "stream",
     "text": [
      "----- Epoch = 27 -----\n",
      "Val loss = 0.5782\n",
      "\n",
      "New best epoch, loss = 0.5782\n",
      "\n"
     ]
    },
    {
     "name": "stderr",
     "output_type": "stream",
     "text": [
      "Training epoch: 100%|██████████| 196/196 [00:56<00:00,  3.48it/s]\n"
     ]
    },
    {
     "name": "stdout",
     "output_type": "stream",
     "text": [
      "----- Epoch = 28 -----\n",
      "Val loss = 0.6217\n",
      "\n"
     ]
    },
    {
     "name": "stderr",
     "output_type": "stream",
     "text": [
      "Training epoch: 100%|██████████| 196/196 [00:56<00:00,  3.48it/s]\n"
     ]
    },
    {
     "name": "stdout",
     "output_type": "stream",
     "text": [
      "----- Epoch = 29 -----\n",
      "Val loss = 0.6234\n",
      "\n"
     ]
    },
    {
     "name": "stderr",
     "output_type": "stream",
     "text": [
      "Training epoch: 100%|██████████| 196/196 [00:56<00:00,  3.47it/s]\n"
     ]
    },
    {
     "name": "stdout",
     "output_type": "stream",
     "text": [
      "----- Epoch = 30 -----\n",
      "Val loss = 0.5907\n",
      "\n"
     ]
    },
    {
     "name": "stderr",
     "output_type": "stream",
     "text": [
      "Training epoch: 100%|██████████| 196/196 [00:56<00:00,  3.46it/s]\n"
     ]
    },
    {
     "name": "stdout",
     "output_type": "stream",
     "text": [
      "----- Epoch = 31 -----\n",
      "Val loss = 0.6025\n",
      "\n"
     ]
    },
    {
     "name": "stderr",
     "output_type": "stream",
     "text": [
      "Training epoch: 100%|██████████| 196/196 [00:56<00:00,  3.47it/s]\n"
     ]
    },
    {
     "name": "stdout",
     "output_type": "stream",
     "text": [
      "----- Epoch = 32 -----\n",
      "Val loss = 0.6156\n",
      "\n"
     ]
    },
    {
     "name": "stderr",
     "output_type": "stream",
     "text": [
      "Training epoch: 100%|██████████| 196/196 [00:56<00:00,  3.45it/s]\n"
     ]
    },
    {
     "name": "stdout",
     "output_type": "stream",
     "text": [
      "----- Epoch = 33 -----\n",
      "Val loss = 0.5699\n",
      "\n",
      "New best epoch, loss = 0.5699\n",
      "\n"
     ]
    },
    {
     "name": "stderr",
     "output_type": "stream",
     "text": [
      "Training epoch: 100%|██████████| 196/196 [00:56<00:00,  3.48it/s]\n"
     ]
    },
    {
     "name": "stdout",
     "output_type": "stream",
     "text": [
      "----- Epoch = 34 -----\n",
      "Val loss = 0.5952\n",
      "\n"
     ]
    },
    {
     "name": "stderr",
     "output_type": "stream",
     "text": [
      "Training epoch: 100%|██████████| 196/196 [00:56<00:00,  3.48it/s]\n"
     ]
    },
    {
     "name": "stdout",
     "output_type": "stream",
     "text": [
      "----- Epoch = 35 -----\n",
      "Val loss = 0.6287\n",
      "\n"
     ]
    },
    {
     "name": "stderr",
     "output_type": "stream",
     "text": [
      "Training epoch: 100%|██████████| 196/196 [00:56<00:00,  3.48it/s]\n"
     ]
    },
    {
     "name": "stdout",
     "output_type": "stream",
     "text": [
      "----- Epoch = 36 -----\n",
      "Val loss = 0.5974\n",
      "\n"
     ]
    },
    {
     "name": "stderr",
     "output_type": "stream",
     "text": [
      "Training epoch: 100%|██████████| 196/196 [00:56<00:00,  3.48it/s]\n"
     ]
    },
    {
     "name": "stdout",
     "output_type": "stream",
     "text": [
      "----- Epoch = 37 -----\n",
      "Val loss = 0.6129\n",
      "\n"
     ]
    },
    {
     "name": "stderr",
     "output_type": "stream",
     "text": [
      "Training epoch: 100%|██████████| 196/196 [00:56<00:00,  3.47it/s]\n"
     ]
    },
    {
     "name": "stdout",
     "output_type": "stream",
     "text": [
      "----- Epoch = 38 -----\n",
      "Val loss = 0.5902\n",
      "\n"
     ]
    },
    {
     "name": "stderr",
     "output_type": "stream",
     "text": [
      "Training epoch: 100%|██████████| 196/196 [00:56<00:00,  3.48it/s]\n"
     ]
    },
    {
     "name": "stdout",
     "output_type": "stream",
     "text": [
      "----- Epoch = 39 -----\n",
      "Val loss = 0.5992\n",
      "\n",
      "Epoch 00039: reducing learning rate of group 0 to 5.0000e-04.\n"
     ]
    },
    {
     "name": "stderr",
     "output_type": "stream",
     "text": [
      "Training epoch: 100%|██████████| 196/196 [00:56<00:00,  3.48it/s]\n"
     ]
    },
    {
     "name": "stdout",
     "output_type": "stream",
     "text": [
      "----- Epoch = 40 -----\n",
      "Val loss = 0.5468\n",
      "\n",
      "New best epoch, loss = 0.5468\n",
      "\n"
     ]
    },
    {
     "name": "stderr",
     "output_type": "stream",
     "text": [
      "Training epoch: 100%|██████████| 196/196 [00:56<00:00,  3.47it/s]\n"
     ]
    },
    {
     "name": "stdout",
     "output_type": "stream",
     "text": [
      "----- Epoch = 41 -----\n",
      "Val loss = 0.5591\n",
      "\n"
     ]
    },
    {
     "name": "stderr",
     "output_type": "stream",
     "text": [
      "Training epoch: 100%|██████████| 196/196 [00:56<00:00,  3.48it/s]\n"
     ]
    },
    {
     "name": "stdout",
     "output_type": "stream",
     "text": [
      "----- Epoch = 42 -----\n",
      "Val loss = 0.5708\n",
      "\n"
     ]
    },
    {
     "name": "stderr",
     "output_type": "stream",
     "text": [
      "Training epoch: 100%|██████████| 196/196 [00:56<00:00,  3.46it/s]\n"
     ]
    },
    {
     "name": "stdout",
     "output_type": "stream",
     "text": [
      "----- Epoch = 43 -----\n",
      "Val loss = 0.5594\n",
      "\n"
     ]
    },
    {
     "name": "stderr",
     "output_type": "stream",
     "text": [
      "Training epoch: 100%|██████████| 196/196 [00:56<00:00,  3.47it/s]\n"
     ]
    },
    {
     "name": "stdout",
     "output_type": "stream",
     "text": [
      "----- Epoch = 44 -----\n",
      "Val loss = 0.5628\n",
      "\n"
     ]
    },
    {
     "name": "stderr",
     "output_type": "stream",
     "text": [
      "Training epoch: 100%|██████████| 196/196 [00:56<00:00,  3.48it/s]\n"
     ]
    },
    {
     "name": "stdout",
     "output_type": "stream",
     "text": [
      "----- Epoch = 45 -----\n",
      "Val loss = 0.5825\n",
      "\n"
     ]
    },
    {
     "name": "stderr",
     "output_type": "stream",
     "text": [
      "Training epoch: 100%|██████████| 196/196 [00:56<00:00,  3.47it/s]\n"
     ]
    },
    {
     "name": "stdout",
     "output_type": "stream",
     "text": [
      "----- Epoch = 46 -----\n",
      "Val loss = 0.5634\n",
      "\n",
      "Epoch 00046: reducing learning rate of group 0 to 2.5000e-04.\n"
     ]
    },
    {
     "name": "stderr",
     "output_type": "stream",
     "text": [
      "Training epoch: 100%|██████████| 196/196 [00:56<00:00,  3.47it/s]\n"
     ]
    },
    {
     "name": "stdout",
     "output_type": "stream",
     "text": [
      "----- Epoch = 47 -----\n",
      "Val loss = 0.5517\n",
      "\n"
     ]
    },
    {
     "name": "stderr",
     "output_type": "stream",
     "text": [
      "Training epoch: 100%|██████████| 196/196 [00:56<00:00,  3.46it/s]\n"
     ]
    },
    {
     "name": "stdout",
     "output_type": "stream",
     "text": [
      "----- Epoch = 48 -----\n",
      "Val loss = 0.5475\n",
      "\n"
     ]
    },
    {
     "name": "stderr",
     "output_type": "stream",
     "text": [
      "Training epoch: 100%|██████████| 196/196 [00:56<00:00,  3.48it/s]\n"
     ]
    },
    {
     "name": "stdout",
     "output_type": "stream",
     "text": [
      "----- Epoch = 49 -----\n",
      "Val loss = 0.5671\n",
      "\n"
     ]
    },
    {
     "name": "stderr",
     "output_type": "stream",
     "text": [
      "Training epoch: 100%|██████████| 196/196 [00:56<00:00,  3.48it/s]\n"
     ]
    },
    {
     "name": "stdout",
     "output_type": "stream",
     "text": [
      "----- Epoch = 50 -----\n",
      "Val loss = 0.5558\n",
      "\n",
      "Stopping early\n",
      "Time Taken: 7556.469554901123\n"
     ]
    }
   ],
   "source": [
    "import time\n",
    "\n",
    "start = time.time()\n",
    "\n",
    "# Check for model\n",
    "if os.path.isfile('cifar surrogate.pt'):\n",
    "    print('Loading saved surrogate model')\n",
    "    surr = torch.load('cifar surrogate.pt').to(device)\n",
    "    surrogate = ImageSurrogate(surr, width=32, height=32, superpixel_size=2)\n",
    "\n",
    "else:\n",
    "    # Create model\n",
    "    surr = nn.Sequential(\n",
    "        MaskLayer2d(value=0, append=True),\n",
    "        ResNet18(in_channels=4, num_classes=10)).to(device)\n",
    "    \n",
    "    '''\n",
    "    # Copy resent weights from original model\n",
    "    for name, param in model.state_dict().items():\n",
    "        _name = \"1.\" + name \n",
    "        #print(name,param.shape)\n",
    "        surr_state_dict = surr.state_dict()\n",
    "        if _name != \"1.conv1.weight\":\n",
    "            surr_state_dict[_name].copy_(param.data)\n",
    "\n",
    "    for name, param in surr.named_parameters():\n",
    "        if param.requires_grad and '1.conv1.weight' != name:\n",
    "            param.requires_grad = False\n",
    "    '''\n",
    "    # Set up surrogate object\n",
    "    surrogate = ImageSurrogate(surr, width=32, height=32, superpixel_size=2)\n",
    "    \n",
    "    # Set up datasets\n",
    "    train_surr = DatasetInputOnly(train_set)\n",
    "    val_surr = DatasetInputOnly(val_set)\n",
    "    original_model = nn.Sequential(model, nn.Softmax(dim=1))\n",
    "\n",
    "    # Train\n",
    "    surrogate.train_original_model_bkup(\n",
    "        train_surr,\n",
    "        val_surr,\n",
    "        original_model,\n",
    "        batch_size=256,\n",
    "        max_epochs=100,\n",
    "        loss_fn=KLDivLoss(),\n",
    "        lookback=10,\n",
    "        bar=True,\n",
    "        verbose=True)\n",
    "    \n",
    "    # Save surrogate\n",
    "    surr.cpu()\n",
    "    torch.save(surr.state_dict(), 'cifar surrogate.pt')\n",
    "    surr.to(device)\n",
    "\n",
    "end  = time.time() - start\n",
    "print(f\"Time Taken: {end}\")"
   ]
  },
  {
   "cell_type": "code",
   "execution_count": 17,
   "id": "db524b4c",
   "metadata": {},
   "outputs": [
    {
     "name": "stderr",
     "output_type": "stream",
     "text": [
      "Training epoch: 100%|██████████| 196/196 [00:59<00:00,  3.29it/s]\n"
     ]
    },
    {
     "name": "stdout",
     "output_type": "stream",
     "text": [
      "----- Epoch = 1 -----\n",
      "Val loss = 0.7462\n",
      "\n",
      "New best epoch, loss = 0.7462\n",
      "\n"
     ]
    },
    {
     "name": "stderr",
     "output_type": "stream",
     "text": [
      "Training epoch: 100%|██████████| 196/196 [01:00<00:00,  3.22it/s]\n"
     ]
    },
    {
     "name": "stdout",
     "output_type": "stream",
     "text": [
      "----- Epoch = 2 -----\n",
      "Val loss = 0.6835\n",
      "\n",
      "New best epoch, loss = 0.6835\n",
      "\n"
     ]
    },
    {
     "name": "stderr",
     "output_type": "stream",
     "text": [
      "Training epoch: 100%|██████████| 196/196 [01:00<00:00,  3.23it/s]\n"
     ]
    },
    {
     "name": "stdout",
     "output_type": "stream",
     "text": [
      "----- Epoch = 3 -----\n",
      "Val loss = 0.6605\n",
      "\n",
      "New best epoch, loss = 0.6605\n",
      "\n"
     ]
    },
    {
     "name": "stderr",
     "output_type": "stream",
     "text": [
      "Training epoch: 100%|██████████| 196/196 [01:00<00:00,  3.22it/s]\n"
     ]
    },
    {
     "name": "stdout",
     "output_type": "stream",
     "text": [
      "----- Epoch = 4 -----\n",
      "Val loss = 0.6194\n",
      "\n",
      "New best epoch, loss = 0.6194\n",
      "\n"
     ]
    },
    {
     "name": "stderr",
     "output_type": "stream",
     "text": [
      "Training epoch: 100%|██████████| 196/196 [01:01<00:00,  3.19it/s]\n"
     ]
    },
    {
     "name": "stdout",
     "output_type": "stream",
     "text": [
      "----- Epoch = 5 -----\n",
      "Val loss = 0.6264\n",
      "\n"
     ]
    },
    {
     "name": "stderr",
     "output_type": "stream",
     "text": [
      "Training epoch: 100%|██████████| 196/196 [01:01<00:00,  3.20it/s]\n"
     ]
    },
    {
     "name": "stdout",
     "output_type": "stream",
     "text": [
      "----- Epoch = 6 -----\n",
      "Val loss = 0.6103\n",
      "\n",
      "New best epoch, loss = 0.6103\n",
      "\n"
     ]
    },
    {
     "name": "stderr",
     "output_type": "stream",
     "text": [
      "Training epoch: 100%|██████████| 196/196 [01:05<00:00,  2.98it/s]\n"
     ]
    },
    {
     "name": "stdout",
     "output_type": "stream",
     "text": [
      "----- Epoch = 7 -----\n",
      "Val loss = 0.5965\n",
      "\n",
      "New best epoch, loss = 0.5965\n",
      "\n"
     ]
    },
    {
     "name": "stderr",
     "output_type": "stream",
     "text": [
      "Training epoch: 100%|██████████| 196/196 [01:01<00:00,  3.18it/s]\n"
     ]
    },
    {
     "name": "stdout",
     "output_type": "stream",
     "text": [
      "----- Epoch = 8 -----\n",
      "Val loss = 0.5996\n",
      "\n"
     ]
    },
    {
     "name": "stderr",
     "output_type": "stream",
     "text": [
      "Training epoch: 100%|██████████| 196/196 [01:00<00:00,  3.21it/s]\n"
     ]
    },
    {
     "name": "stdout",
     "output_type": "stream",
     "text": [
      "----- Epoch = 9 -----\n",
      "Val loss = 0.5813\n",
      "\n",
      "New best epoch, loss = 0.5813\n",
      "\n"
     ]
    },
    {
     "name": "stderr",
     "output_type": "stream",
     "text": [
      "Training epoch: 100%|██████████| 196/196 [01:00<00:00,  3.23it/s]\n"
     ]
    },
    {
     "name": "stdout",
     "output_type": "stream",
     "text": [
      "----- Epoch = 10 -----\n",
      "Val loss = 0.5864\n",
      "\n"
     ]
    },
    {
     "name": "stderr",
     "output_type": "stream",
     "text": [
      "Training epoch: 100%|██████████| 196/196 [01:00<00:00,  3.23it/s]\n"
     ]
    },
    {
     "name": "stdout",
     "output_type": "stream",
     "text": [
      "----- Epoch = 11 -----\n",
      "Val loss = 0.5975\n",
      "\n"
     ]
    },
    {
     "name": "stderr",
     "output_type": "stream",
     "text": [
      "Training epoch: 100%|██████████| 196/196 [01:00<00:00,  3.26it/s]\n"
     ]
    },
    {
     "name": "stdout",
     "output_type": "stream",
     "text": [
      "----- Epoch = 12 -----\n",
      "Val loss = 0.5751\n",
      "\n",
      "New best epoch, loss = 0.5751\n",
      "\n"
     ]
    },
    {
     "name": "stderr",
     "output_type": "stream",
     "text": [
      "Training epoch: 100%|██████████| 196/196 [01:00<00:00,  3.26it/s]\n"
     ]
    },
    {
     "name": "stdout",
     "output_type": "stream",
     "text": [
      "----- Epoch = 13 -----\n",
      "Val loss = 0.6011\n",
      "\n"
     ]
    },
    {
     "name": "stderr",
     "output_type": "stream",
     "text": [
      "Training epoch: 100%|██████████| 196/196 [01:00<00:00,  3.25it/s]\n"
     ]
    },
    {
     "name": "stdout",
     "output_type": "stream",
     "text": [
      "----- Epoch = 14 -----\n",
      "Val loss = 0.5979\n",
      "\n"
     ]
    },
    {
     "name": "stderr",
     "output_type": "stream",
     "text": [
      "Training epoch: 100%|██████████| 196/196 [01:00<00:00,  3.26it/s]\n"
     ]
    },
    {
     "name": "stdout",
     "output_type": "stream",
     "text": [
      "----- Epoch = 15 -----\n",
      "Val loss = 0.5685\n",
      "\n",
      "New best epoch, loss = 0.5685\n",
      "\n"
     ]
    },
    {
     "name": "stderr",
     "output_type": "stream",
     "text": [
      "Training epoch: 100%|██████████| 196/196 [00:59<00:00,  3.27it/s]\n"
     ]
    },
    {
     "name": "stdout",
     "output_type": "stream",
     "text": [
      "----- Epoch = 16 -----\n",
      "Val loss = 0.5687\n",
      "\n"
     ]
    },
    {
     "name": "stderr",
     "output_type": "stream",
     "text": [
      "Training epoch: 100%|██████████| 196/196 [00:59<00:00,  3.27it/s]\n"
     ]
    },
    {
     "name": "stdout",
     "output_type": "stream",
     "text": [
      "----- Epoch = 17 -----\n",
      "Val loss = 0.5665\n",
      "\n",
      "New best epoch, loss = 0.5665\n",
      "\n"
     ]
    },
    {
     "name": "stderr",
     "output_type": "stream",
     "text": [
      "Training epoch: 100%|██████████| 196/196 [00:59<00:00,  3.27it/s]\n"
     ]
    },
    {
     "name": "stdout",
     "output_type": "stream",
     "text": [
      "----- Epoch = 18 -----\n",
      "Val loss = 0.5722\n",
      "\n"
     ]
    },
    {
     "name": "stderr",
     "output_type": "stream",
     "text": [
      "Training epoch: 100%|██████████| 196/196 [00:59<00:00,  3.27it/s]\n"
     ]
    },
    {
     "name": "stdout",
     "output_type": "stream",
     "text": [
      "----- Epoch = 19 -----\n",
      "Val loss = 0.5621\n",
      "\n",
      "New best epoch, loss = 0.5621\n",
      "\n"
     ]
    },
    {
     "name": "stderr",
     "output_type": "stream",
     "text": [
      "Training epoch: 100%|██████████| 196/196 [00:59<00:00,  3.27it/s]\n"
     ]
    },
    {
     "name": "stdout",
     "output_type": "stream",
     "text": [
      "----- Epoch = 20 -----\n",
      "Val loss = 0.5747\n",
      "\n"
     ]
    },
    {
     "name": "stderr",
     "output_type": "stream",
     "text": [
      "Training epoch: 100%|██████████| 196/196 [00:59<00:00,  3.27it/s]\n"
     ]
    },
    {
     "name": "stdout",
     "output_type": "stream",
     "text": [
      "----- Epoch = 21 -----\n",
      "Val loss = 0.5592\n",
      "\n",
      "New best epoch, loss = 0.5592\n",
      "\n"
     ]
    },
    {
     "name": "stderr",
     "output_type": "stream",
     "text": [
      "Training epoch: 100%|██████████| 196/196 [00:59<00:00,  3.27it/s]\n"
     ]
    },
    {
     "name": "stdout",
     "output_type": "stream",
     "text": [
      "----- Epoch = 22 -----\n",
      "Val loss = 0.5393\n",
      "\n",
      "New best epoch, loss = 0.5393\n",
      "\n"
     ]
    },
    {
     "name": "stderr",
     "output_type": "stream",
     "text": [
      "Training epoch: 100%|██████████| 196/196 [01:00<00:00,  3.27it/s]\n"
     ]
    },
    {
     "name": "stdout",
     "output_type": "stream",
     "text": [
      "----- Epoch = 23 -----\n",
      "Val loss = 0.6007\n",
      "\n"
     ]
    },
    {
     "name": "stderr",
     "output_type": "stream",
     "text": [
      "Training epoch: 100%|██████████| 196/196 [00:59<00:00,  3.27it/s]\n"
     ]
    },
    {
     "name": "stdout",
     "output_type": "stream",
     "text": [
      "----- Epoch = 24 -----\n",
      "Val loss = 0.5724\n",
      "\n"
     ]
    },
    {
     "name": "stderr",
     "output_type": "stream",
     "text": [
      "Training epoch: 100%|██████████| 196/196 [00:59<00:00,  3.27it/s]\n"
     ]
    },
    {
     "name": "stdout",
     "output_type": "stream",
     "text": [
      "----- Epoch = 25 -----\n",
      "Val loss = 0.5865\n",
      "\n"
     ]
    },
    {
     "name": "stderr",
     "output_type": "stream",
     "text": [
      "Training epoch: 100%|██████████| 196/196 [00:59<00:00,  3.27it/s]\n"
     ]
    },
    {
     "name": "stdout",
     "output_type": "stream",
     "text": [
      "----- Epoch = 26 -----\n",
      "Val loss = 0.5564\n",
      "\n"
     ]
    },
    {
     "name": "stderr",
     "output_type": "stream",
     "text": [
      "Training epoch: 100%|██████████| 196/196 [00:59<00:00,  3.28it/s]\n"
     ]
    },
    {
     "name": "stdout",
     "output_type": "stream",
     "text": [
      "----- Epoch = 27 -----\n",
      "Val loss = 0.5122\n",
      "\n",
      "New best epoch, loss = 0.5122\n",
      "\n"
     ]
    },
    {
     "name": "stderr",
     "output_type": "stream",
     "text": [
      "Training epoch: 100%|██████████| 196/196 [00:59<00:00,  3.27it/s]\n"
     ]
    },
    {
     "name": "stdout",
     "output_type": "stream",
     "text": [
      "----- Epoch = 28 -----\n",
      "Val loss = 0.5781\n",
      "\n"
     ]
    },
    {
     "name": "stderr",
     "output_type": "stream",
     "text": [
      "Training epoch: 100%|██████████| 196/196 [00:59<00:00,  3.28it/s]\n"
     ]
    },
    {
     "name": "stdout",
     "output_type": "stream",
     "text": [
      "----- Epoch = 29 -----\n",
      "Val loss = 0.5592\n",
      "\n"
     ]
    },
    {
     "name": "stderr",
     "output_type": "stream",
     "text": [
      "Training epoch: 100%|██████████| 196/196 [00:59<00:00,  3.28it/s]\n"
     ]
    },
    {
     "name": "stdout",
     "output_type": "stream",
     "text": [
      "----- Epoch = 30 -----\n",
      "Val loss = 0.5455\n",
      "\n"
     ]
    },
    {
     "name": "stderr",
     "output_type": "stream",
     "text": [
      "Training epoch: 100%|██████████| 196/196 [00:59<00:00,  3.28it/s]\n"
     ]
    },
    {
     "name": "stdout",
     "output_type": "stream",
     "text": [
      "----- Epoch = 31 -----\n",
      "Val loss = 0.5248\n",
      "\n"
     ]
    },
    {
     "name": "stderr",
     "output_type": "stream",
     "text": [
      "Training epoch: 100%|██████████| 196/196 [00:59<00:00,  3.27it/s]\n"
     ]
    },
    {
     "name": "stdout",
     "output_type": "stream",
     "text": [
      "----- Epoch = 32 -----\n",
      "Val loss = 0.5347\n",
      "\n"
     ]
    },
    {
     "name": "stderr",
     "output_type": "stream",
     "text": [
      "Training epoch: 100%|██████████| 196/196 [00:59<00:00,  3.27it/s]\n"
     ]
    },
    {
     "name": "stdout",
     "output_type": "stream",
     "text": [
      "----- Epoch = 33 -----\n",
      "Val loss = 0.5524\n",
      "\n",
      "Epoch 00033: reducing learning rate of group 0 to 5.0000e-04.\n"
     ]
    },
    {
     "name": "stderr",
     "output_type": "stream",
     "text": [
      "Training epoch: 100%|██████████| 196/196 [00:59<00:00,  3.27it/s]\n"
     ]
    },
    {
     "name": "stdout",
     "output_type": "stream",
     "text": [
      "----- Epoch = 34 -----\n",
      "Val loss = 0.5100\n",
      "\n",
      "New best epoch, loss = 0.5100\n",
      "\n"
     ]
    },
    {
     "name": "stderr",
     "output_type": "stream",
     "text": [
      "Training epoch: 100%|██████████| 196/196 [00:59<00:00,  3.27it/s]\n"
     ]
    },
    {
     "name": "stdout",
     "output_type": "stream",
     "text": [
      "----- Epoch = 35 -----\n",
      "Val loss = 0.5061\n",
      "\n",
      "New best epoch, loss = 0.5061\n",
      "\n"
     ]
    },
    {
     "name": "stderr",
     "output_type": "stream",
     "text": [
      "Training epoch: 100%|██████████| 196/196 [00:59<00:00,  3.27it/s]\n"
     ]
    },
    {
     "name": "stdout",
     "output_type": "stream",
     "text": [
      "----- Epoch = 36 -----\n",
      "Val loss = 0.5078\n",
      "\n"
     ]
    },
    {
     "name": "stderr",
     "output_type": "stream",
     "text": [
      "Training epoch: 100%|██████████| 196/196 [00:59<00:00,  3.28it/s]\n"
     ]
    },
    {
     "name": "stdout",
     "output_type": "stream",
     "text": [
      "----- Epoch = 37 -----\n",
      "Val loss = 0.5204\n",
      "\n"
     ]
    },
    {
     "name": "stderr",
     "output_type": "stream",
     "text": [
      "Training epoch: 100%|██████████| 196/196 [00:59<00:00,  3.28it/s]\n"
     ]
    },
    {
     "name": "stdout",
     "output_type": "stream",
     "text": [
      "----- Epoch = 38 -----\n",
      "Val loss = 0.5008\n",
      "\n",
      "New best epoch, loss = 0.5008\n",
      "\n"
     ]
    },
    {
     "name": "stderr",
     "output_type": "stream",
     "text": [
      "Training epoch: 100%|██████████| 196/196 [00:59<00:00,  3.27it/s]\n"
     ]
    },
    {
     "name": "stdout",
     "output_type": "stream",
     "text": [
      "----- Epoch = 39 -----\n",
      "Val loss = 0.5197\n",
      "\n"
     ]
    },
    {
     "name": "stderr",
     "output_type": "stream",
     "text": [
      "Training epoch: 100%|██████████| 196/196 [00:59<00:00,  3.27it/s]\n"
     ]
    },
    {
     "name": "stdout",
     "output_type": "stream",
     "text": [
      "----- Epoch = 40 -----\n",
      "Val loss = 0.5174\n",
      "\n"
     ]
    },
    {
     "name": "stderr",
     "output_type": "stream",
     "text": [
      "Training epoch: 100%|██████████| 196/196 [00:59<00:00,  3.28it/s]\n"
     ]
    },
    {
     "name": "stdout",
     "output_type": "stream",
     "text": [
      "----- Epoch = 41 -----\n",
      "Val loss = 0.5219\n",
      "\n"
     ]
    },
    {
     "name": "stderr",
     "output_type": "stream",
     "text": [
      "Training epoch: 100%|██████████| 196/196 [00:59<00:00,  3.27it/s]\n"
     ]
    },
    {
     "name": "stdout",
     "output_type": "stream",
     "text": [
      "----- Epoch = 42 -----\n",
      "Val loss = 0.5321\n",
      "\n"
     ]
    },
    {
     "name": "stderr",
     "output_type": "stream",
     "text": [
      "Training epoch: 100%|██████████| 196/196 [00:59<00:00,  3.27it/s]\n"
     ]
    },
    {
     "name": "stdout",
     "output_type": "stream",
     "text": [
      "----- Epoch = 43 -----\n",
      "Val loss = 0.5318\n",
      "\n"
     ]
    },
    {
     "name": "stderr",
     "output_type": "stream",
     "text": [
      "Training epoch: 100%|██████████| 196/196 [01:00<00:00,  3.27it/s]\n"
     ]
    },
    {
     "name": "stdout",
     "output_type": "stream",
     "text": [
      "----- Epoch = 44 -----\n",
      "Val loss = 0.5332\n",
      "\n",
      "Epoch 00044: reducing learning rate of group 0 to 2.5000e-04.\n"
     ]
    },
    {
     "name": "stderr",
     "output_type": "stream",
     "text": [
      "Training epoch: 100%|██████████| 196/196 [00:59<00:00,  3.27it/s]\n"
     ]
    },
    {
     "name": "stdout",
     "output_type": "stream",
     "text": [
      "----- Epoch = 45 -----\n",
      "Val loss = 0.5118\n",
      "\n"
     ]
    },
    {
     "name": "stderr",
     "output_type": "stream",
     "text": [
      "Training epoch: 100%|██████████| 196/196 [00:59<00:00,  3.27it/s]\n"
     ]
    },
    {
     "name": "stdout",
     "output_type": "stream",
     "text": [
      "----- Epoch = 46 -----\n",
      "Val loss = 0.5039\n",
      "\n"
     ]
    },
    {
     "name": "stderr",
     "output_type": "stream",
     "text": [
      "Training epoch: 100%|██████████| 196/196 [00:59<00:00,  3.27it/s]\n"
     ]
    },
    {
     "name": "stdout",
     "output_type": "stream",
     "text": [
      "----- Epoch = 47 -----\n",
      "Val loss = 0.5257\n",
      "\n"
     ]
    },
    {
     "name": "stderr",
     "output_type": "stream",
     "text": [
      "Training epoch: 100%|██████████| 196/196 [00:59<00:00,  3.27it/s]\n"
     ]
    },
    {
     "name": "stdout",
     "output_type": "stream",
     "text": [
      "----- Epoch = 48 -----\n",
      "Val loss = 0.5240\n",
      "\n",
      "Stopping early\n"
     ]
    },
    {
     "data": {
      "text/plain": [
       "Sequential(\n",
       "  (0): MaskLayer2d()\n",
       "  (1): ResNet(\n",
       "    (conv1): Conv2d(4, 64, kernel_size=(3, 3), stride=(1, 1), padding=(1, 1), bias=False)\n",
       "    (bn1): BatchNorm2d(64, eps=1e-05, momentum=0.1, affine=True, track_running_stats=True)\n",
       "    (layers): ModuleList(\n",
       "      (0): Sequential(\n",
       "        (0): BasicBlock(\n",
       "          (conv1): Conv2d(64, 64, kernel_size=(3, 3), stride=(1, 1), padding=(1, 1), bias=False)\n",
       "          (bn1): BatchNorm2d(64, eps=1e-05, momentum=0.1, affine=True, track_running_stats=True)\n",
       "          (conv2): Conv2d(64, 64, kernel_size=(3, 3), stride=(1, 1), padding=(1, 1), bias=False)\n",
       "          (bn2): BatchNorm2d(64, eps=1e-05, momentum=0.1, affine=True, track_running_stats=True)\n",
       "          (shortcut): Sequential()\n",
       "        )\n",
       "        (1): BasicBlock(\n",
       "          (conv1): Conv2d(64, 64, kernel_size=(3, 3), stride=(1, 1), padding=(1, 1), bias=False)\n",
       "          (bn1): BatchNorm2d(64, eps=1e-05, momentum=0.1, affine=True, track_running_stats=True)\n",
       "          (conv2): Conv2d(64, 64, kernel_size=(3, 3), stride=(1, 1), padding=(1, 1), bias=False)\n",
       "          (bn2): BatchNorm2d(64, eps=1e-05, momentum=0.1, affine=True, track_running_stats=True)\n",
       "          (shortcut): Sequential()\n",
       "        )\n",
       "      )\n",
       "      (1): Sequential(\n",
       "        (0): BasicBlock(\n",
       "          (conv1): Conv2d(64, 128, kernel_size=(3, 3), stride=(2, 2), padding=(1, 1), bias=False)\n",
       "          (bn1): BatchNorm2d(128, eps=1e-05, momentum=0.1, affine=True, track_running_stats=True)\n",
       "          (conv2): Conv2d(128, 128, kernel_size=(3, 3), stride=(1, 1), padding=(1, 1), bias=False)\n",
       "          (bn2): BatchNorm2d(128, eps=1e-05, momentum=0.1, affine=True, track_running_stats=True)\n",
       "          (shortcut): Sequential(\n",
       "            (0): Conv2d(64, 128, kernel_size=(1, 1), stride=(2, 2), bias=False)\n",
       "            (1): BatchNorm2d(128, eps=1e-05, momentum=0.1, affine=True, track_running_stats=True)\n",
       "          )\n",
       "        )\n",
       "        (1): BasicBlock(\n",
       "          (conv1): Conv2d(128, 128, kernel_size=(3, 3), stride=(1, 1), padding=(1, 1), bias=False)\n",
       "          (bn1): BatchNorm2d(128, eps=1e-05, momentum=0.1, affine=True, track_running_stats=True)\n",
       "          (conv2): Conv2d(128, 128, kernel_size=(3, 3), stride=(1, 1), padding=(1, 1), bias=False)\n",
       "          (bn2): BatchNorm2d(128, eps=1e-05, momentum=0.1, affine=True, track_running_stats=True)\n",
       "          (shortcut): Sequential()\n",
       "        )\n",
       "      )\n",
       "      (2): Sequential(\n",
       "        (0): BasicBlock(\n",
       "          (conv1): Conv2d(128, 256, kernel_size=(3, 3), stride=(2, 2), padding=(1, 1), bias=False)\n",
       "          (bn1): BatchNorm2d(256, eps=1e-05, momentum=0.1, affine=True, track_running_stats=True)\n",
       "          (conv2): Conv2d(256, 256, kernel_size=(3, 3), stride=(1, 1), padding=(1, 1), bias=False)\n",
       "          (bn2): BatchNorm2d(256, eps=1e-05, momentum=0.1, affine=True, track_running_stats=True)\n",
       "          (shortcut): Sequential(\n",
       "            (0): Conv2d(128, 256, kernel_size=(1, 1), stride=(2, 2), bias=False)\n",
       "            (1): BatchNorm2d(256, eps=1e-05, momentum=0.1, affine=True, track_running_stats=True)\n",
       "          )\n",
       "        )\n",
       "        (1): BasicBlock(\n",
       "          (conv1): Conv2d(256, 256, kernel_size=(3, 3), stride=(1, 1), padding=(1, 1), bias=False)\n",
       "          (bn1): BatchNorm2d(256, eps=1e-05, momentum=0.1, affine=True, track_running_stats=True)\n",
       "          (conv2): Conv2d(256, 256, kernel_size=(3, 3), stride=(1, 1), padding=(1, 1), bias=False)\n",
       "          (bn2): BatchNorm2d(256, eps=1e-05, momentum=0.1, affine=True, track_running_stats=True)\n",
       "          (shortcut): Sequential()\n",
       "        )\n",
       "      )\n",
       "      (3): Sequential(\n",
       "        (0): BasicBlock(\n",
       "          (conv1): Conv2d(256, 512, kernel_size=(3, 3), stride=(2, 2), padding=(1, 1), bias=False)\n",
       "          (bn1): BatchNorm2d(512, eps=1e-05, momentum=0.1, affine=True, track_running_stats=True)\n",
       "          (conv2): Conv2d(512, 512, kernel_size=(3, 3), stride=(1, 1), padding=(1, 1), bias=False)\n",
       "          (bn2): BatchNorm2d(512, eps=1e-05, momentum=0.1, affine=True, track_running_stats=True)\n",
       "          (shortcut): Sequential(\n",
       "            (0): Conv2d(256, 512, kernel_size=(1, 1), stride=(2, 2), bias=False)\n",
       "            (1): BatchNorm2d(512, eps=1e-05, momentum=0.1, affine=True, track_running_stats=True)\n",
       "          )\n",
       "        )\n",
       "        (1): BasicBlock(\n",
       "          (conv1): Conv2d(512, 512, kernel_size=(3, 3), stride=(1, 1), padding=(1, 1), bias=False)\n",
       "          (bn1): BatchNorm2d(512, eps=1e-05, momentum=0.1, affine=True, track_running_stats=True)\n",
       "          (conv2): Conv2d(512, 512, kernel_size=(3, 3), stride=(1, 1), padding=(1, 1), bias=False)\n",
       "          (bn2): BatchNorm2d(512, eps=1e-05, momentum=0.1, affine=True, track_running_stats=True)\n",
       "          (shortcut): Sequential()\n",
       "        )\n",
       "      )\n",
       "    )\n",
       "    (linear): Linear(in_features=512, out_features=10, bias=True)\n",
       "  )\n",
       ")"
      ]
     },
     "execution_count": 17,
     "metadata": {},
     "output_type": "execute_result"
    }
   ],
   "source": [
    "surr = nn.Sequential(\n",
    "        MaskLayer2d(value=0, append=True),\n",
    "        ResNet18(in_channels=4, num_classes=10)).to(device)\n",
    "\n",
    "surr.load_state_dict(torch.load('cifar surrogate.pt'))\n",
    "surr.to(device)\n",
    "\n",
    "# Set up surrogate object\n",
    "surrogate = ImageSurrogate(surr, width=32, height=32, superpixel_size=2)\n",
    "\n",
    "# Set up datasets\n",
    "train_surr = DatasetInputOnly(train_set)\n",
    "val_surr = DatasetInputOnly(val_set)\n",
    "original_model = nn.Sequential(model, nn.Softmax(dim=1))\n",
    "\n",
    "# Train\n",
    "surrogate.train_original_model(\n",
    "    train_surr,\n",
    "    val_surr,\n",
    "    original_model,\n",
    "    batch_size=256,\n",
    "    max_epochs=100,\n",
    "    loss_fn=KLDivLoss(),\n",
    "    lookback=10,\n",
    "    bar=True,\n",
    "    verbose=True)\n",
    "\n",
    "# Save surrogate\n",
    "surr.cpu()\n",
    "torch.save(surr.state_dict(), 'cifar surrogate.pt')\n",
    "surr.to(device)"
   ]
  },
  {
   "cell_type": "code",
   "execution_count": 16,
   "id": "0fe6d61b",
   "metadata": {},
   "outputs": [],
   "source": [
    "# @title Read data"
   ]
  },
  {
   "cell_type": "markdown",
   "id": "civic-partition",
   "metadata": {},
   "source": [
    "# Train FastSHAP"
   ]
  },
  {
   "cell_type": "code",
   "execution_count": 13,
   "id": "peaceful-domestic",
   "metadata": {},
   "outputs": [],
   "source": [
    "from unet import UNet\n",
    "from fastshap import FastSHAP"
   ]
  },
  {
   "cell_type": "code",
   "execution_count": 14,
   "id": "corporate-survival",
   "metadata": {},
   "outputs": [
    {
     "name": "stdout",
     "output_type": "stream",
     "text": [
      "Loading saved explainer model\n",
      "Time taken: 0.06327939033508301\n"
     ]
    }
   ],
   "source": [
    "# Check for model\n",
    "start = time.time()\n",
    "\n",
    "if os.path.isfile('cifar explainer.pt'):\n",
    "    print('Loading saved explainer model')\n",
    "    explainer = torch.load('cifar explainer.pt').to(device)\n",
    "    fastshap = FastSHAP(explainer, surrogate, link=nn.LogSoftmax(dim=1))\n",
    "\n",
    "else:\n",
    "    # Set up explainer model\n",
    "    explainer = UNet(n_classes=10, num_down=2, num_up=1, num_convs=3).to(device)\n",
    "\n",
    "    # Set up FastSHAP object\n",
    "    fastshap = FastSHAP(explainer, surrogate, link=nn.LogSoftmax(dim=1))\n",
    "\n",
    "    # Set up datasets\n",
    "    fastshap_train = DatasetInputOnly(train_set)\n",
    "    fastshap_val = DatasetInputOnly(val_set)\n",
    "\n",
    "    # Train\n",
    "    fastshap.train(\n",
    "        fastshap_train,\n",
    "        fastshap_val,\n",
    "        batch_size=128,\n",
    "        num_samples=2,\n",
    "        max_epochs=200,\n",
    "        eff_lambda=1e-2,\n",
    "        validation_samples=1,\n",
    "        lookback=10,\n",
    "        bar=True,\n",
    "        verbose=True)\n",
    "    \n",
    "    # Save explainer\n",
    "    explainer.cpu()\n",
    "    torch.save(explainer, 'cifar explainer.pt')\n",
    "    explainer.to(device)\n",
    "\n",
    "end = time.time() - start\n",
    "print(f\"Time taken: {end}\")"
   ]
  },
  {
   "cell_type": "markdown",
   "id": "minor-thirty",
   "metadata": {},
   "source": [
    "# Visualize results"
   ]
  },
  {
   "cell_type": "code",
   "execution_count": 26,
   "id": "numeric-dietary",
   "metadata": {},
   "outputs": [],
   "source": [
    "import matplotlib.pyplot as plt"
   ]
  },
  {
   "cell_type": "code",
   "execution_count": 27,
   "id": "massive-cheese",
   "metadata": {},
   "outputs": [
    {
     "data": {
      "image/png": "[encoded data removed]",
      "text/plain": [
       "<Figure size 2200x2000 with 110 Axes>"
      ]
     },
     "metadata": {},
     "output_type": "display_data"
    }
   ],
   "source": [
    "# Select one image from each class\n",
    "dset = val_set\n",
    "targets = np.array(dset.targets)\n",
    "num_classes = targets.max() + 1\n",
    "inds_lists = [np.where(targets == cat)[0] for cat in range(num_classes)]\n",
    "inds = [np.random.choice(cat_inds) for cat_inds in inds_lists]\n",
    "x, y = zip(*[dset[ind] for ind in inds])\n",
    "x = torch.stack(x)\n",
    "\n",
    "# Get explanations\n",
    "values = fastshap.shap_values(x.to(device))\n",
    "\n",
    "# Get predictions\n",
    "pred = surrogate(\n",
    "    x.to(device),\n",
    "    torch.ones(num_classes, surrogate.num_players, device=device)\n",
    ").softmax(dim=1).cpu().data.numpy()\n",
    "\n",
    "fig, axarr = plt.subplots(num_classes, num_classes + 1, figsize=(22, 20))\n",
    "\n",
    "for row in range(num_classes):\n",
    "    # Image\n",
    "    classes = ['Airplane', 'Car', 'Bird', 'Cat', 'Deer', 'Dog', 'Frog', 'Horse', 'Ship', 'Truck']\n",
    "    mean = np.array([0.4914, 0.4822, 0.4465])[:, np.newaxis, np.newaxis]\n",
    "    std = np.array([0.2023, 0.1994, 0.2010])[:, np.newaxis, np.newaxis]\n",
    "    im = x[row].numpy() * std + mean\n",
    "    im = im.transpose(1, 2, 0).astype(float)\n",
    "    im = np.clip(im, a_min=0, a_max=1)\n",
    "    axarr[row, 0].imshow(im, vmin=0, vmax=1)\n",
    "    axarr[row, 0].set_xticks([])\n",
    "    axarr[row, 0].set_yticks([])\n",
    "    axarr[row, 0].set_ylabel('{}'.format(classes[y[row]]), fontsize=14)\n",
    "    \n",
    "    # Explanations\n",
    "    m = np.abs(values[row]).max()\n",
    "    for col in range(num_classes):\n",
    "        axarr[row, col + 1].imshow(values[row, col], cmap='seismic', vmin=-m, vmax=m)\n",
    "        axarr[row, col + 1].set_xticks([])\n",
    "        axarr[row, col + 1].set_yticks([])\n",
    "        if col == y[row]:\n",
    "            axarr[row, col + 1].set_xlabel('{:.2f}'.format(pred[row, col]), fontsize=12, fontweight='bold')\n",
    "        else:\n",
    "            axarr[row, col + 1].set_xlabel('{:.2f}'.format(pred[row, col]), fontsize=12)\n",
    "        \n",
    "        # Class labels\n",
    "        if row == 0:\n",
    "            axarr[row, col + 1].set_title('{}'.format(classes[y[col]]), fontsize=14)\n",
    "\n",
    "plt.tight_layout()\n",
    "plt.show()"
   ]
  },
  {
   "cell_type": "code",
   "execution_count": null,
   "id": "enabling-attendance",
   "metadata": {},
   "outputs": [],
   "source": []
  }
 ],
 "metadata": {
  "kernelspec": {
   "display_name": "Python 3.9.13 ('.venv': venv)",
   "language": "python",
   "name": "python3"
  },
  "language_info": {
   "codemirror_mode": {
    "name": "ipython",
    "version": 3
   },
   "file_extension": ".py",
   "mimetype": "text/x-python",
   "name": "python",
   "nbconvert_exporter": "python",
   "pygments_lexer": "ipython3",
   "version": "3.9.13"
  },
  "vscode": {
   "interpreter": {
    "hash": "1fc9b8638362cbdc7141d1e74cba8a8c09a8baa0cc5883fc38fa28281f96844d"
   }
  }
 },
 "nbformat": 4,
 "nbformat_minor": 5
}
